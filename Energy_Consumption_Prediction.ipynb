{
 "cells": [
  {
   "cell_type": "markdown",
   "id": "0b776c4e",
   "metadata": {},
   "source": [
    "The purpose of the project is to build a model that could satisfactorily predict the energy consumption using historical data, with Linear Regression (Random Forest Tree)  "
   ]
  },
  {
   "cell_type": "code",
   "execution_count": 87,
   "id": "1c9bcaf5",
   "metadata": {},
   "outputs": [],
   "source": [
    "import pandas as pd\n",
    "import os as o # creating the working directory\n",
    "from matplotlib import pyplot as plt#For Visuals and chat\n",
    "import numpy as np #numpy is used for making numpy array\n",
    "import seaborn as sns#For visuals and chart\n",
    "from sklearn.ensemble import RandomForestRegressor#Machine learning model\n",
    "from sklearn.model_selection import train_test_split#to splitt the dataset to train and test\n",
    "from sklearn import metrics#for accuracy score\n",
    "#To remove warnings\n",
    "import warnings\n",
    "warnings.filterwarnings('ignore')"
   ]
  },
  {
   "cell_type": "code",
   "execution_count": 125,
   "id": "4406d68e",
   "metadata": {},
   "outputs": [],
   "source": [
    "path = 'C:\\\\Users\\\\user\\Desktop\\Data Analytics\\\\Python\\Machine Learning\\\\Energy Consumption Project\\\\'\n"
   ]
  },
  {
   "cell_type": "code",
   "execution_count": 126,
   "id": "e07eb610",
   "metadata": {},
   "outputs": [],
   "source": [
    "##path = 'C:\\\\Users\\\\FEMI.OLUNUGA\\\\OneDrive - Landsec\\\\Desktop\\\\P.Project'"
   ]
  },
  {
   "cell_type": "code",
   "execution_count": 127,
   "id": "e560bf4d",
   "metadata": {},
   "outputs": [],
   "source": [
    "o.chdir(path) #to activate the path"
   ]
  },
  {
   "cell_type": "code",
   "execution_count": 128,
   "id": "d678055c",
   "metadata": {},
   "outputs": [
    {
     "data": {
      "text/plain": [
       "'C:\\\\Users\\\\FEMI.OLUNUGA\\\\OneDrive - Landsec\\\\Desktop\\\\P.Project'"
      ]
     },
     "execution_count": 128,
     "metadata": {},
     "output_type": "execute_result"
    }
   ],
   "source": [
    "o.getcwd()# to confirm the working path"
   ]
  },
  {
   "cell_type": "markdown",
   "id": "035f0848",
   "metadata": {},
   "source": [
    "### Loading and Preview of Data"
   ]
  },
  {
   "cell_type": "code",
   "execution_count": 129,
   "id": "920c3400",
   "metadata": {},
   "outputs": [],
   "source": [
    "df=pd.read_csv('Full_Energy.csv')"
   ]
  },
  {
   "cell_type": "code",
   "execution_count": 130,
   "id": "90504f4a",
   "metadata": {},
   "outputs": [],
   "source": [
    "df2 = df # creating a duplicate data"
   ]
  },
  {
   "cell_type": "code",
   "execution_count": 131,
   "id": "3b7d4d22",
   "metadata": {},
   "outputs": [
    {
     "data": {
      "text/plain": [
       "(1048575, 16)"
      ]
     },
     "execution_count": 131,
     "metadata": {},
     "output_type": "execute_result"
    }
   ],
   "source": [
    "df.shape"
   ]
  },
  {
   "cell_type": "code",
   "execution_count": 132,
   "id": "24d5e27f",
   "metadata": {},
   "outputs": [
    {
     "name": "stdout",
     "output_type": "stream",
     "text": [
      "<class 'pandas.core.frame.DataFrame'>\n",
      "RangeIndex: 1048575 entries, 0 to 1048574\n",
      "Data columns (total 16 columns):\n",
      " #   Column              Non-Null Count    Dtype  \n",
      "---  ------              --------------    -----  \n",
      " 0   site_id             1048575 non-null  int64  \n",
      " 1   building_id         1048575 non-null  int64  \n",
      " 2   primary_use         1048575 non-null  object \n",
      " 3   square_feet         1048575 non-null  int64  \n",
      " 4   year_built          1048575 non-null  int64  \n",
      " 5   floor_count         0 non-null        float64\n",
      " 6   timestamp           1048575 non-null  object \n",
      " 7   air_temperature     1048272 non-null  float64\n",
      " 8   cloud_coverage      593261 non-null   float64\n",
      " 9   dew_temperature     1048272 non-null  float64\n",
      " 10  precip_depth_1_hr   1048474 non-null  float64\n",
      " 11  sea_level_pressure  1038535 non-null  float64\n",
      " 12  wind_direction      1018126 non-null  float64\n",
      " 13  wind_speed          1048575 non-null  float64\n",
      " 14  meter               1048575 non-null  int64  \n",
      " 15  meter_reading       1048575 non-null  float64\n",
      "dtypes: float64(9), int64(5), object(2)\n",
      "memory usage: 128.0+ MB\n"
     ]
    }
   ],
   "source": [
    "df.info()"
   ]
  },
  {
   "cell_type": "code",
   "execution_count": 133,
   "id": "f3709d58",
   "metadata": {},
   "outputs": [],
   "source": [
    "#df['Date'] = pd.to_datetime(df['timestamp']).dt.date # create seperate date and time table\n",
    "#df['time'] = pd.to_datetime(df['timestamp']).dt.time"
   ]
  },
  {
   "cell_type": "code",
   "execution_count": 134,
   "id": "29dd7daf",
   "metadata": {
    "scrolled": true
   },
   "outputs": [
    {
     "data": {
      "text/plain": [
       "site_id               0.000000\n",
       "building_id           0.000000\n",
       "primary_use           0.000000\n",
       "square_feet           0.000000\n",
       "year_built            0.000000\n",
       "floor_count           1.000000\n",
       "timestamp             0.000000\n",
       "air_temperature       0.000289\n",
       "cloud_coverage        0.434222\n",
       "dew_temperature       0.000289\n",
       "precip_depth_1_hr     0.000096\n",
       "sea_level_pressure    0.009575\n",
       "wind_direction        0.029038\n",
       "wind_speed            0.000000\n",
       "meter                 0.000000\n",
       "meter_reading         0.000000\n",
       "dtype: float64"
      ]
     },
     "execution_count": 134,
     "metadata": {},
     "output_type": "execute_result"
    }
   ],
   "source": [
    "df.isna().sum()/len(df) #checking for the percentage of null values"
   ]
  },
  {
   "cell_type": "code",
   "execution_count": 135,
   "id": "0e5f6373",
   "metadata": {},
   "outputs": [],
   "source": [
    "df= df.drop(columns = \"floor_count\", axis = 1) # dropping because all values are null"
   ]
  },
  {
   "cell_type": "code",
   "execution_count": 136,
   "id": "7ab808ae",
   "metadata": {},
   "outputs": [
    {
     "data": {
      "text/html": [
       "<div>\n",
       "<style scoped>\n",
       "    .dataframe tbody tr th:only-of-type {\n",
       "        vertical-align: middle;\n",
       "    }\n",
       "\n",
       "    .dataframe tbody tr th {\n",
       "        vertical-align: top;\n",
       "    }\n",
       "\n",
       "    .dataframe thead th {\n",
       "        text-align: right;\n",
       "    }\n",
       "</style>\n",
       "<table border=\"1\" class=\"dataframe\">\n",
       "  <thead>\n",
       "    <tr style=\"text-align: right;\">\n",
       "      <th></th>\n",
       "      <th>site_id</th>\n",
       "      <th>building_id</th>\n",
       "      <th>square_feet</th>\n",
       "      <th>year_built</th>\n",
       "      <th>air_temperature</th>\n",
       "      <th>cloud_coverage</th>\n",
       "      <th>dew_temperature</th>\n",
       "      <th>precip_depth_1_hr</th>\n",
       "      <th>sea_level_pressure</th>\n",
       "      <th>wind_direction</th>\n",
       "      <th>wind_speed</th>\n",
       "      <th>meter</th>\n",
       "      <th>meter_reading</th>\n",
       "    </tr>\n",
       "  </thead>\n",
       "  <tbody>\n",
       "    <tr>\n",
       "      <th>count</th>\n",
       "      <td>1048575.0</td>\n",
       "      <td>1.048575e+06</td>\n",
       "      <td>1.048575e+06</td>\n",
       "      <td>1.048575e+06</td>\n",
       "      <td>1.048272e+06</td>\n",
       "      <td>593261.000000</td>\n",
       "      <td>1.048272e+06</td>\n",
       "      <td>1.048474e+06</td>\n",
       "      <td>1.038535e+06</td>\n",
       "      <td>1.018126e+06</td>\n",
       "      <td>1.048575e+06</td>\n",
       "      <td>1.048575e+06</td>\n",
       "      <td>1.048575e+06</td>\n",
       "    </tr>\n",
       "    <tr>\n",
       "      <th>mean</th>\n",
       "      <td>0.0</td>\n",
       "      <td>5.148789e+01</td>\n",
       "      <td>8.796601e+04</td>\n",
       "      <td>1.995995e+03</td>\n",
       "      <td>2.306250e+01</td>\n",
       "      <td>3.048882</td>\n",
       "      <td>1.704932e+01</td>\n",
       "      <td>1.390079e+00</td>\n",
       "      <td>1.017961e+03</td>\n",
       "      <td>1.553203e+02</td>\n",
       "      <td>3.357865e+00</td>\n",
       "      <td>1.535293e-01</td>\n",
       "      <td>5.583135e+02</td>\n",
       "    </tr>\n",
       "    <tr>\n",
       "      <th>std</th>\n",
       "      <td>0.0</td>\n",
       "      <td>3.022867e+01</td>\n",
       "      <td>1.028270e+05</td>\n",
       "      <td>1.427211e+01</td>\n",
       "      <td>5.917130e+00</td>\n",
       "      <td>2.103824</td>\n",
       "      <td>6.371691e+00</td>\n",
       "      <td>1.308847e+01</td>\n",
       "      <td>3.990069e+00</td>\n",
       "      <td>1.178685e+02</td>\n",
       "      <td>2.148417e+00</td>\n",
       "      <td>3.604971e-01</td>\n",
       "      <td>1.274919e+03</td>\n",
       "    </tr>\n",
       "    <tr>\n",
       "      <th>min</th>\n",
       "      <td>0.0</td>\n",
       "      <td>0.000000e+00</td>\n",
       "      <td>2.830000e+02</td>\n",
       "      <td>1.968000e+03</td>\n",
       "      <td>1.700000e+00</td>\n",
       "      <td>0.000000</td>\n",
       "      <td>-9.400000e+00</td>\n",
       "      <td>-1.000000e+00</td>\n",
       "      <td>9.920000e+02</td>\n",
       "      <td>0.000000e+00</td>\n",
       "      <td>0.000000e+00</td>\n",
       "      <td>0.000000e+00</td>\n",
       "      <td>0.000000e+00</td>\n",
       "    </tr>\n",
       "    <tr>\n",
       "      <th>25%</th>\n",
       "      <td>0.0</td>\n",
       "      <td>2.500000e+01</td>\n",
       "      <td>2.445600e+04</td>\n",
       "      <td>1.985000e+03</td>\n",
       "      <td>1.940000e+01</td>\n",
       "      <td>2.000000</td>\n",
       "      <td>1.330000e+01</td>\n",
       "      <td>0.000000e+00</td>\n",
       "      <td>1.015500e+03</td>\n",
       "      <td>6.000000e+01</td>\n",
       "      <td>2.100000e+00</td>\n",
       "      <td>0.000000e+00</td>\n",
       "      <td>0.000000e+00</td>\n",
       "    </tr>\n",
       "    <tr>\n",
       "      <th>50%</th>\n",
       "      <td>0.0</td>\n",
       "      <td>5.100000e+01</td>\n",
       "      <td>5.464400e+04</td>\n",
       "      <td>2.001000e+03</td>\n",
       "      <td>2.390000e+01</td>\n",
       "      <td>2.000000</td>\n",
       "      <td>1.830000e+01</td>\n",
       "      <td>0.000000e+00</td>\n",
       "      <td>1.018000e+03</td>\n",
       "      <td>1.400000e+02</td>\n",
       "      <td>3.100000e+00</td>\n",
       "      <td>0.000000e+00</td>\n",
       "      <td>1.261370e+02</td>\n",
       "    </tr>\n",
       "    <tr>\n",
       "      <th>75%</th>\n",
       "      <td>0.0</td>\n",
       "      <td>7.800000e+01</td>\n",
       "      <td>1.055450e+05</td>\n",
       "      <td>2.007000e+03</td>\n",
       "      <td>2.720000e+01</td>\n",
       "      <td>4.000000</td>\n",
       "      <td>2.220000e+01</td>\n",
       "      <td>0.000000e+00</td>\n",
       "      <td>1.020500e+03</td>\n",
       "      <td>2.600000e+02</td>\n",
       "      <td>4.600000e+00</td>\n",
       "      <td>0.000000e+00</td>\n",
       "      <td>4.588425e+02</td>\n",
       "    </tr>\n",
       "    <tr>\n",
       "      <th>max</th>\n",
       "      <td>0.0</td>\n",
       "      <td>1.020000e+02</td>\n",
       "      <td>4.874330e+05</td>\n",
       "      <td>2.016000e+03</td>\n",
       "      <td>3.610000e+01</td>\n",
       "      <td>9.000000</td>\n",
       "      <td>2.560000e+01</td>\n",
       "      <td>3.430000e+02</td>\n",
       "      <td>1.030200e+03</td>\n",
       "      <td>3.600000e+02</td>\n",
       "      <td>1.540000e+01</td>\n",
       "      <td>1.000000e+00</td>\n",
       "      <td>1.726110e+05</td>\n",
       "    </tr>\n",
       "  </tbody>\n",
       "</table>\n",
       "</div>"
      ],
      "text/plain": [
       "         site_id   building_id   square_feet    year_built  air_temperature  \\\n",
       "count  1048575.0  1.048575e+06  1.048575e+06  1.048575e+06     1.048272e+06   \n",
       "mean         0.0  5.148789e+01  8.796601e+04  1.995995e+03     2.306250e+01   \n",
       "std          0.0  3.022867e+01  1.028270e+05  1.427211e+01     5.917130e+00   \n",
       "min          0.0  0.000000e+00  2.830000e+02  1.968000e+03     1.700000e+00   \n",
       "25%          0.0  2.500000e+01  2.445600e+04  1.985000e+03     1.940000e+01   \n",
       "50%          0.0  5.100000e+01  5.464400e+04  2.001000e+03     2.390000e+01   \n",
       "75%          0.0  7.800000e+01  1.055450e+05  2.007000e+03     2.720000e+01   \n",
       "max          0.0  1.020000e+02  4.874330e+05  2.016000e+03     3.610000e+01   \n",
       "\n",
       "       cloud_coverage  dew_temperature  precip_depth_1_hr  sea_level_pressure  \\\n",
       "count   593261.000000     1.048272e+06       1.048474e+06        1.038535e+06   \n",
       "mean         3.048882     1.704932e+01       1.390079e+00        1.017961e+03   \n",
       "std          2.103824     6.371691e+00       1.308847e+01        3.990069e+00   \n",
       "min          0.000000    -9.400000e+00      -1.000000e+00        9.920000e+02   \n",
       "25%          2.000000     1.330000e+01       0.000000e+00        1.015500e+03   \n",
       "50%          2.000000     1.830000e+01       0.000000e+00        1.018000e+03   \n",
       "75%          4.000000     2.220000e+01       0.000000e+00        1.020500e+03   \n",
       "max          9.000000     2.560000e+01       3.430000e+02        1.030200e+03   \n",
       "\n",
       "       wind_direction    wind_speed         meter  meter_reading  \n",
       "count    1.018126e+06  1.048575e+06  1.048575e+06   1.048575e+06  \n",
       "mean     1.553203e+02  3.357865e+00  1.535293e-01   5.583135e+02  \n",
       "std      1.178685e+02  2.148417e+00  3.604971e-01   1.274919e+03  \n",
       "min      0.000000e+00  0.000000e+00  0.000000e+00   0.000000e+00  \n",
       "25%      6.000000e+01  2.100000e+00  0.000000e+00   0.000000e+00  \n",
       "50%      1.400000e+02  3.100000e+00  0.000000e+00   1.261370e+02  \n",
       "75%      2.600000e+02  4.600000e+00  0.000000e+00   4.588425e+02  \n",
       "max      3.600000e+02  1.540000e+01  1.000000e+00   1.726110e+05  "
      ]
     },
     "execution_count": 136,
     "metadata": {},
     "output_type": "execute_result"
    }
   ],
   "source": [
    "df.describe()"
   ]
  },
  {
   "cell_type": "markdown",
   "id": "bc333351",
   "metadata": {},
   "source": [
    "### Exploratory Analysis"
   ]
  },
  {
   "cell_type": "code",
   "execution_count": 137,
   "id": "f72a8c81",
   "metadata": {
    "scrolled": true
   },
   "outputs": [
    {
     "name": "stdout",
     "output_type": "stream",
     "text": [
      "Number of Years: 36\n",
      "Number of unique Site: 1\n",
      "Number of unique Buildings: 103\n",
      "Number of unique Meters: 2\n",
      "Unique uses of Buildings: 7\n"
     ]
    }
   ],
   "source": [
    "print(\"Number of Years:\", df.year_built.nunique())\n",
    "print(\"Number of unique Site:\", df.site_id.nunique())\n",
    "print(\"Number of unique Buildings:\", df.building_id.nunique())\n",
    "print(\"Number of unique Meters:\", df.meter.nunique())\n",
    "print(\"Unique uses of Buildings:\", df.primary_use.nunique())"
   ]
  },
  {
   "cell_type": "code",
   "execution_count": 138,
   "id": "99a6fb70",
   "metadata": {},
   "outputs": [],
   "source": [
    "df= df.drop(columns = \"site_id\", axis = 1) # dropping because there is only one uniquessite id, hence, it isn't useful"
   ]
  },
  {
   "cell_type": "code",
   "execution_count": 139,
   "id": "064c48ac",
   "metadata": {},
   "outputs": [
    {
     "data": {
      "text/html": [
       "<div>\n",
       "<style scoped>\n",
       "    .dataframe tbody tr th:only-of-type {\n",
       "        vertical-align: middle;\n",
       "    }\n",
       "\n",
       "    .dataframe tbody tr th {\n",
       "        vertical-align: top;\n",
       "    }\n",
       "\n",
       "    .dataframe thead th {\n",
       "        text-align: right;\n",
       "    }\n",
       "</style>\n",
       "<table border=\"1\" class=\"dataframe\">\n",
       "  <thead>\n",
       "    <tr style=\"text-align: right;\">\n",
       "      <th></th>\n",
       "      <th>building_id</th>\n",
       "      <th>primary_use</th>\n",
       "      <th>square_feet</th>\n",
       "      <th>year_built</th>\n",
       "      <th>timestamp</th>\n",
       "      <th>air_temperature</th>\n",
       "      <th>cloud_coverage</th>\n",
       "      <th>dew_temperature</th>\n",
       "      <th>precip_depth_1_hr</th>\n",
       "      <th>sea_level_pressure</th>\n",
       "      <th>wind_direction</th>\n",
       "      <th>wind_speed</th>\n",
       "      <th>meter</th>\n",
       "      <th>meter_reading</th>\n",
       "    </tr>\n",
       "  </thead>\n",
       "  <tbody>\n",
       "    <tr>\n",
       "      <th>0</th>\n",
       "      <td>0</td>\n",
       "      <td>Education</td>\n",
       "      <td>7432</td>\n",
       "      <td>2008</td>\n",
       "      <td>01/01/2016 00:00</td>\n",
       "      <td>25.0</td>\n",
       "      <td>6.0</td>\n",
       "      <td>20.0</td>\n",
       "      <td>NaN</td>\n",
       "      <td>1019.7</td>\n",
       "      <td>0.0</td>\n",
       "      <td>0.0</td>\n",
       "      <td>0</td>\n",
       "      <td>0.0</td>\n",
       "    </tr>\n",
       "    <tr>\n",
       "      <th>1</th>\n",
       "      <td>0</td>\n",
       "      <td>Education</td>\n",
       "      <td>7432</td>\n",
       "      <td>2008</td>\n",
       "      <td>01/01/2016 01:00</td>\n",
       "      <td>24.4</td>\n",
       "      <td>NaN</td>\n",
       "      <td>21.1</td>\n",
       "      <td>-1.0</td>\n",
       "      <td>1020.2</td>\n",
       "      <td>70.0</td>\n",
       "      <td>1.5</td>\n",
       "      <td>0</td>\n",
       "      <td>0.0</td>\n",
       "    </tr>\n",
       "    <tr>\n",
       "      <th>2</th>\n",
       "      <td>0</td>\n",
       "      <td>Education</td>\n",
       "      <td>7432</td>\n",
       "      <td>2008</td>\n",
       "      <td>01/01/2016 02:00</td>\n",
       "      <td>22.8</td>\n",
       "      <td>2.0</td>\n",
       "      <td>21.1</td>\n",
       "      <td>0.0</td>\n",
       "      <td>1020.2</td>\n",
       "      <td>0.0</td>\n",
       "      <td>0.0</td>\n",
       "      <td>0</td>\n",
       "      <td>0.0</td>\n",
       "    </tr>\n",
       "    <tr>\n",
       "      <th>3</th>\n",
       "      <td>0</td>\n",
       "      <td>Education</td>\n",
       "      <td>7432</td>\n",
       "      <td>2008</td>\n",
       "      <td>01/01/2016 03:00</td>\n",
       "      <td>21.1</td>\n",
       "      <td>2.0</td>\n",
       "      <td>20.6</td>\n",
       "      <td>0.0</td>\n",
       "      <td>1020.1</td>\n",
       "      <td>0.0</td>\n",
       "      <td>0.0</td>\n",
       "      <td>0</td>\n",
       "      <td>0.0</td>\n",
       "    </tr>\n",
       "    <tr>\n",
       "      <th>4</th>\n",
       "      <td>0</td>\n",
       "      <td>Education</td>\n",
       "      <td>7432</td>\n",
       "      <td>2008</td>\n",
       "      <td>01/01/2016 04:00</td>\n",
       "      <td>20.0</td>\n",
       "      <td>2.0</td>\n",
       "      <td>20.0</td>\n",
       "      <td>-1.0</td>\n",
       "      <td>1020.0</td>\n",
       "      <td>250.0</td>\n",
       "      <td>2.6</td>\n",
       "      <td>0</td>\n",
       "      <td>0.0</td>\n",
       "    </tr>\n",
       "  </tbody>\n",
       "</table>\n",
       "</div>"
      ],
      "text/plain": [
       "   building_id primary_use  square_feet  year_built         timestamp  \\\n",
       "0            0   Education         7432        2008  01/01/2016 00:00   \n",
       "1            0   Education         7432        2008  01/01/2016 01:00   \n",
       "2            0   Education         7432        2008  01/01/2016 02:00   \n",
       "3            0   Education         7432        2008  01/01/2016 03:00   \n",
       "4            0   Education         7432        2008  01/01/2016 04:00   \n",
       "\n",
       "   air_temperature  cloud_coverage  dew_temperature  precip_depth_1_hr  \\\n",
       "0             25.0             6.0             20.0                NaN   \n",
       "1             24.4             NaN             21.1               -1.0   \n",
       "2             22.8             2.0             21.1                0.0   \n",
       "3             21.1             2.0             20.6                0.0   \n",
       "4             20.0             2.0             20.0               -1.0   \n",
       "\n",
       "   sea_level_pressure  wind_direction  wind_speed  meter  meter_reading  \n",
       "0              1019.7             0.0         0.0      0            0.0  \n",
       "1              1020.2            70.0         1.5      0            0.0  \n",
       "2              1020.2             0.0         0.0      0            0.0  \n",
       "3              1020.1             0.0         0.0      0            0.0  \n",
       "4              1020.0           250.0         2.6      0            0.0  "
      ]
     },
     "execution_count": 139,
     "metadata": {},
     "output_type": "execute_result"
    }
   ],
   "source": [
    "df.head()"
   ]
  },
  {
   "cell_type": "code",
   "execution_count": 140,
   "id": "c2617f20",
   "metadata": {},
   "outputs": [
    {
     "data": {
      "text/html": [
       "<div>\n",
       "<style scoped>\n",
       "    .dataframe tbody tr th:only-of-type {\n",
       "        vertical-align: middle;\n",
       "    }\n",
       "\n",
       "    .dataframe tbody tr th {\n",
       "        vertical-align: top;\n",
       "    }\n",
       "\n",
       "    .dataframe thead th {\n",
       "        text-align: right;\n",
       "    }\n",
       "</style>\n",
       "<table border=\"1\" class=\"dataframe\">\n",
       "  <thead>\n",
       "    <tr style=\"text-align: right;\">\n",
       "      <th></th>\n",
       "      <th>primary_use</th>\n",
       "      <th>no_of_buildings</th>\n",
       "    </tr>\n",
       "  </thead>\n",
       "  <tbody>\n",
       "    <tr>\n",
       "      <th>0</th>\n",
       "      <td>Education</td>\n",
       "      <td>329346</td>\n",
       "    </tr>\n",
       "    <tr>\n",
       "      <th>2</th>\n",
       "      <td>Lodging/residential</td>\n",
       "      <td>263621</td>\n",
       "    </tr>\n",
       "    <tr>\n",
       "      <th>3</th>\n",
       "      <td>Office</td>\n",
       "      <td>234160</td>\n",
       "    </tr>\n",
       "    <tr>\n",
       "      <th>5</th>\n",
       "      <td>Parking</td>\n",
       "      <td>70272</td>\n",
       "    </tr>\n",
       "    <tr>\n",
       "      <th>6</th>\n",
       "      <td>Retail</td>\n",
       "      <td>59958</td>\n",
       "    </tr>\n",
       "    <tr>\n",
       "      <th>4</th>\n",
       "      <td>Other</td>\n",
       "      <td>47654</td>\n",
       "    </tr>\n",
       "    <tr>\n",
       "      <th>1</th>\n",
       "      <td>Entertainment/public assembly</td>\n",
       "      <td>43564</td>\n",
       "    </tr>\n",
       "  </tbody>\n",
       "</table>\n",
       "</div>"
      ],
      "text/plain": [
       "                     primary_use  no_of_buildings\n",
       "0                      Education           329346\n",
       "2            Lodging/residential           263621\n",
       "3                         Office           234160\n",
       "5                        Parking            70272\n",
       "6                         Retail            59958\n",
       "4                          Other            47654\n",
       "1  Entertainment/public assembly            43564"
      ]
     },
     "execution_count": 140,
     "metadata": {},
     "output_type": "execute_result"
    }
   ],
   "source": [
    "buildinguse = df[[\"primary_use\", \"building_id\"]].groupby(\"primary_use\", as_index = False).count()\n",
    "buildinguse.rename(columns = {'building_id': 'no_of_buildings'}, inplace = True)\n",
    "buildinguse = buildinguse.sort_values(by = [\"no_of_buildings\"], ascending = False, inplace=False)\n",
    "buildinguse"
   ]
  },
  {
   "cell_type": "code",
   "execution_count": 141,
   "id": "76138816",
   "metadata": {},
   "outputs": [
    {
     "data": {
      "image/png": "[encoded data removed]",
      "text/plain": [
       "<Figure size 720x288 with 1 Axes>"
      ]
     },
     "metadata": {
      "needs_background": "light"
     },
     "output_type": "display_data"
    }
   ],
   "source": [
    "plt.figure(figsize = (10, 4))\n",
    "plt.barh(buildinguse.primary_use, buildinguse.no_of_buildings,  align='center', data=buildinguse)\n",
    "#plt.tick_params(axis='x', rotation=90)\n",
    "plt.title(\"Bulding by Uses\")\n",
    "plt.show()"
   ]
  },
  {
   "cell_type": "code",
   "execution_count": 142,
   "id": "2e8ccd9c",
   "metadata": {
    "scrolled": true
   },
   "outputs": [
    {
     "data": {
      "image/png": "[encoded data removed]",
      "text/plain": [
       "<Figure size 1008x432 with 1 Axes>"
      ]
     },
     "metadata": {
      "needs_background": "light"
     },
     "output_type": "display_data"
    }
   ],
   "source": [
    "plt.figure (figsize = (14,6))\n",
    "penguins = sns.load_dataset(\"penguins\")\n",
    "sns.histplot(data=df, x=\"year_built\", binwidth=2, bins = 50)\n",
    "sns.distplot(df['year_built'], color = 'blue')\n",
    "plt.title('Buildings by Year Built', size = 20)\n",
    "plt.show()"
   ]
  },
  {
   "cell_type": "code",
   "execution_count": 145,
   "id": "9d37aec6",
   "metadata": {
    "scrolled": true
   },
   "outputs": [
    {
     "data": {
      "text/html": [
       "<div>\n",
       "<style scoped>\n",
       "    .dataframe tbody tr th:only-of-type {\n",
       "        vertical-align: middle;\n",
       "    }\n",
       "\n",
       "    .dataframe tbody tr th {\n",
       "        vertical-align: top;\n",
       "    }\n",
       "\n",
       "    .dataframe thead th {\n",
       "        text-align: right;\n",
       "    }\n",
       "</style>\n",
       "<table border=\"1\" class=\"dataframe\">\n",
       "  <thead>\n",
       "    <tr style=\"text-align: right;\">\n",
       "      <th></th>\n",
       "      <th>year_built</th>\n",
       "      <th>Energy_Used</th>\n",
       "    </tr>\n",
       "  </thead>\n",
       "  <tbody>\n",
       "    <tr>\n",
       "      <th>27</th>\n",
       "      <td>2006</td>\n",
       "      <td>8.804346e+07</td>\n",
       "    </tr>\n",
       "    <tr>\n",
       "      <th>30</th>\n",
       "      <td>2009</td>\n",
       "      <td>7.319258e+07</td>\n",
       "    </tr>\n",
       "    <tr>\n",
       "      <th>28</th>\n",
       "      <td>2007</td>\n",
       "      <td>5.807715e+07</td>\n",
       "    </tr>\n",
       "    <tr>\n",
       "      <th>22</th>\n",
       "      <td>2001</td>\n",
       "      <td>4.774478e+07</td>\n",
       "    </tr>\n",
       "    <tr>\n",
       "      <th>33</th>\n",
       "      <td>2013</td>\n",
       "      <td>2.856542e+07</td>\n",
       "    </tr>\n",
       "    <tr>\n",
       "      <th>20</th>\n",
       "      <td>1999</td>\n",
       "      <td>2.804741e+07</td>\n",
       "    </tr>\n",
       "    <tr>\n",
       "      <th>17</th>\n",
       "      <td>1996</td>\n",
       "      <td>2.614427e+07</td>\n",
       "    </tr>\n",
       "    <tr>\n",
       "      <th>14</th>\n",
       "      <td>1989</td>\n",
       "      <td>2.610596e+07</td>\n",
       "    </tr>\n",
       "    <tr>\n",
       "      <th>31</th>\n",
       "      <td>2010</td>\n",
       "      <td>2.212682e+07</td>\n",
       "    </tr>\n",
       "    <tr>\n",
       "      <th>24</th>\n",
       "      <td>2003</td>\n",
       "      <td>2.201843e+07</td>\n",
       "    </tr>\n",
       "  </tbody>\n",
       "</table>\n",
       "</div>"
      ],
      "text/plain": [
       "    year_built   Energy_Used\n",
       "27        2006  8.804346e+07\n",
       "30        2009  7.319258e+07\n",
       "28        2007  5.807715e+07\n",
       "22        2001  4.774478e+07\n",
       "33        2013  2.856542e+07\n",
       "20        1999  2.804741e+07\n",
       "17        1996  2.614427e+07\n",
       "14        1989  2.610596e+07\n",
       "31        2010  2.212682e+07\n",
       "24        2003  2.201843e+07"
      ]
     },
     "execution_count": 145,
     "metadata": {},
     "output_type": "execute_result"
    }
   ],
   "source": [
    "annualenergy = df.groupby(\"year_built\", as_index  = False)[\"meter_reading\"].sum() \n",
    "annualenergy = annualenergy.sort_values([\"meter_reading\"], ascending = False)\n",
    "annualenergy.rename(columns = {'meter_reading': 'Energy_Used'}, inplace = True)\n",
    "annualenergy.head(10)"
   ]
  },
  {
   "cell_type": "code",
   "execution_count": 146,
   "id": "e8116309",
   "metadata": {},
   "outputs": [],
   "source": [
    "#plt.bar(\"year_built\", \"Energy_Used\", width=0.8,  data=df)\n",
    "#plt.show()"
   ]
  },
  {
   "cell_type": "markdown",
   "id": "571f6cab",
   "metadata": {},
   "source": [
    "Energy rate by building \n",
    "\n",
    "Energy by year\n",
    "\n",
    "Energy by types of building"
   ]
  },
  {
   "cell_type": "code",
   "execution_count": 147,
   "id": "f90134ee",
   "metadata": {},
   "outputs": [
    {
     "data": {
      "text/html": [
       "<div>\n",
       "<style scoped>\n",
       "    .dataframe tbody tr th:only-of-type {\n",
       "        vertical-align: middle;\n",
       "    }\n",
       "\n",
       "    .dataframe tbody tr th {\n",
       "        vertical-align: top;\n",
       "    }\n",
       "\n",
       "    .dataframe thead th {\n",
       "        text-align: right;\n",
       "    }\n",
       "</style>\n",
       "<table border=\"1\" class=\"dataframe\">\n",
       "  <thead>\n",
       "    <tr style=\"text-align: right;\">\n",
       "      <th></th>\n",
       "      <th>primary_use</th>\n",
       "      <th>Energy_Used</th>\n",
       "      <th>No_of_Buildings</th>\n",
       "      <th>avg_per_building</th>\n",
       "    </tr>\n",
       "  </thead>\n",
       "  <tbody>\n",
       "    <tr>\n",
       "      <th>0</th>\n",
       "      <td>Education</td>\n",
       "      <td>3.385265e+08</td>\n",
       "      <td>329346</td>\n",
       "      <td>1027.875001</td>\n",
       "    </tr>\n",
       "    <tr>\n",
       "      <th>2</th>\n",
       "      <td>Lodging/residential</td>\n",
       "      <td>1.242663e+08</td>\n",
       "      <td>263621</td>\n",
       "      <td>471.382389</td>\n",
       "    </tr>\n",
       "    <tr>\n",
       "      <th>3</th>\n",
       "      <td>Office</td>\n",
       "      <td>6.785761e+07</td>\n",
       "      <td>234160</td>\n",
       "      <td>289.791626</td>\n",
       "    </tr>\n",
       "    <tr>\n",
       "      <th>4</th>\n",
       "      <td>Other</td>\n",
       "      <td>2.169883e+07</td>\n",
       "      <td>47654</td>\n",
       "      <td>455.341276</td>\n",
       "    </tr>\n",
       "    <tr>\n",
       "      <th>1</th>\n",
       "      <td>Entertainment/public assembly</td>\n",
       "      <td>1.600554e+07</td>\n",
       "      <td>43564</td>\n",
       "      <td>367.402987</td>\n",
       "    </tr>\n",
       "  </tbody>\n",
       "</table>\n",
       "</div>"
      ],
      "text/plain": [
       "                     primary_use   Energy_Used  No_of_Buildings  \\\n",
       "0                      Education  3.385265e+08           329346   \n",
       "2            Lodging/residential  1.242663e+08           263621   \n",
       "3                         Office  6.785761e+07           234160   \n",
       "4                          Other  2.169883e+07            47654   \n",
       "1  Entertainment/public assembly  1.600554e+07            43564   \n",
       "\n",
       "   avg_per_building  \n",
       "0       1027.875001  \n",
       "2        471.382389  \n",
       "3        289.791626  \n",
       "4        455.341276  \n",
       "1        367.402987  "
      ]
     },
     "execution_count": 147,
     "metadata": {},
     "output_type": "execute_result"
    }
   ],
   "source": [
    "Energybybuilding = pd.DataFrame(df2.groupby(['primary_use'])['meter_reading'].agg(['sum','count']).reset_index())\n",
    "Energybybuilding.rename(columns = {'sum': 'Energy_Used','count': 'No_of_Buildings'}, inplace = True)\n",
    "Energybybuilding = Energybybuilding.sort_values('Energy_Used', ascending = False).head()\n",
    "Energybybuilding[\"avg_per_building\"] = Energybybuilding.Energy_Used/Energybybuilding.No_of_Buildings\n",
    "Energybybuilding"
   ]
  },
  {
   "cell_type": "code",
   "execution_count": 148,
   "id": "b6c36cd8",
   "metadata": {},
   "outputs": [
    {
     "data": {
      "text/plain": [
       "primary_use  building_id\n",
       "Education    0                65282688\n",
       "             1                23892480\n",
       "             2                47222784\n",
       "             3               208049040\n",
       "             4              1024275888\n",
       "                               ...    \n",
       "Retail       44                2485872\n",
       "             45              134415032\n",
       "             46               79451280\n",
       "             47              278122478\n",
       "             89             1420855920\n",
       "Name: square_feet, Length: 103, dtype: int64"
      ]
     },
     "execution_count": 148,
     "metadata": {},
     "output_type": "execute_result"
    }
   ],
   "source": [
    "df.groupby(['primary_use', 'building_id'])['square_feet'].sum() # trying to get the sqft of each unique building ***"
   ]
  },
  {
   "cell_type": "code",
   "execution_count": 149,
   "id": "4f9e90b4",
   "metadata": {
    "scrolled": true
   },
   "outputs": [
    {
     "data": {
      "text/html": [
       "<div>\n",
       "<style scoped>\n",
       "    .dataframe tbody tr th:only-of-type {\n",
       "        vertical-align: middle;\n",
       "    }\n",
       "\n",
       "    .dataframe tbody tr th {\n",
       "        vertical-align: top;\n",
       "    }\n",
       "\n",
       "    .dataframe thead th {\n",
       "        text-align: right;\n",
       "    }\n",
       "</style>\n",
       "<table border=\"1\" class=\"dataframe\">\n",
       "  <thead>\n",
       "    <tr style=\"text-align: right;\">\n",
       "      <th></th>\n",
       "      <th>primary_use</th>\n",
       "      <th>Energy_Used</th>\n",
       "      <th>square_feet</th>\n",
       "      <th>avg_energy_per_sqft</th>\n",
       "    </tr>\n",
       "  </thead>\n",
       "  <tbody>\n",
       "    <tr>\n",
       "      <th>0</th>\n",
       "      <td>Education</td>\n",
       "      <td>3.385265e+08</td>\n",
       "      <td>23948380908</td>\n",
       "      <td>0.014136</td>\n",
       "    </tr>\n",
       "    <tr>\n",
       "      <th>1</th>\n",
       "      <td>Entertainment/public assembly</td>\n",
       "      <td>1.600554e+07</td>\n",
       "      <td>4926954448</td>\n",
       "      <td>0.003249</td>\n",
       "    </tr>\n",
       "    <tr>\n",
       "      <th>2</th>\n",
       "      <td>Lodging/residential</td>\n",
       "      <td>1.242663e+08</td>\n",
       "      <td>21152910635</td>\n",
       "      <td>0.005875</td>\n",
       "    </tr>\n",
       "    <tr>\n",
       "      <th>3</th>\n",
       "      <td>Office</td>\n",
       "      <td>6.785761e+07</td>\n",
       "      <td>9060821238</td>\n",
       "      <td>0.007489</td>\n",
       "    </tr>\n",
       "    <tr>\n",
       "      <th>4</th>\n",
       "      <td>Other</td>\n",
       "      <td>2.169883e+07</td>\n",
       "      <td>2170364121</td>\n",
       "      <td>0.009998</td>\n",
       "    </tr>\n",
       "    <tr>\n",
       "      <th>5</th>\n",
       "      <td>Parking</td>\n",
       "      <td>4.564820e+06</td>\n",
       "      <td>28116696816</td>\n",
       "      <td>0.000162</td>\n",
       "    </tr>\n",
       "    <tr>\n",
       "      <th>6</th>\n",
       "      <td>Retail</td>\n",
       "      <td>1.251398e+07</td>\n",
       "      <td>2862829422</td>\n",
       "      <td>0.004371</td>\n",
       "    </tr>\n",
       "  </tbody>\n",
       "</table>\n",
       "</div>"
      ],
      "text/plain": [
       "                     primary_use   Energy_Used  square_feet  \\\n",
       "0                      Education  3.385265e+08  23948380908   \n",
       "1  Entertainment/public assembly  1.600554e+07   4926954448   \n",
       "2            Lodging/residential  1.242663e+08  21152910635   \n",
       "3                         Office  6.785761e+07   9060821238   \n",
       "4                          Other  2.169883e+07   2170364121   \n",
       "5                        Parking  4.564820e+06  28116696816   \n",
       "6                         Retail  1.251398e+07   2862829422   \n",
       "\n",
       "   avg_energy_per_sqft  \n",
       "0             0.014136  \n",
       "1             0.003249  \n",
       "2             0.005875  \n",
       "3             0.007489  \n",
       "4             0.009998  \n",
       "5             0.000162  \n",
       "6             0.004371  "
      ]
     },
     "execution_count": 149,
     "metadata": {},
     "output_type": "execute_result"
    }
   ],
   "source": [
    "Energybysqft = pd.DataFrame(df2.groupby(['primary_use'])['meter_reading','square_feet']\n",
    "                            .agg({'meter_reading':'sum', 'square_feet':\"sum\" }).reset_index())\n",
    "Energybysqft.rename(columns = {'meter_reading': 'Energy_Used','square_feet': 'square_feet'}, inplace = True)\n",
    "#Energybysqft = Energybysqft.sort_values('Energy_Used', ascending = False).head()\n",
    "Energybysqft[\"avg_energy_per_sqft\"] = Energybysqft.Energy_Used/Energybysqft.square_feet\n",
    "Energybysqft"
   ]
  },
  {
   "cell_type": "code",
   "execution_count": 113,
   "id": "02ff389a",
   "metadata": {},
   "outputs": [
    {
     "data": {
      "text/html": [
       "<div>\n",
       "<style scoped>\n",
       "    .dataframe tbody tr th:only-of-type {\n",
       "        vertical-align: middle;\n",
       "    }\n",
       "\n",
       "    .dataframe tbody tr th {\n",
       "        vertical-align: top;\n",
       "    }\n",
       "\n",
       "    .dataframe thead th {\n",
       "        text-align: right;\n",
       "    }\n",
       "</style>\n",
       "<table border=\"1\" class=\"dataframe\">\n",
       "  <thead>\n",
       "    <tr style=\"text-align: right;\">\n",
       "      <th></th>\n",
       "      <th>meter</th>\n",
       "      <th>meter_reading</th>\n",
       "    </tr>\n",
       "  </thead>\n",
       "  <tbody>\n",
       "    <tr>\n",
       "      <th>1</th>\n",
       "      <td>1</td>\n",
       "      <td>3.825509e+08</td>\n",
       "    </tr>\n",
       "    <tr>\n",
       "      <th>0</th>\n",
       "      <td>0</td>\n",
       "      <td>2.028827e+08</td>\n",
       "    </tr>\n",
       "  </tbody>\n",
       "</table>\n",
       "</div>"
      ],
      "text/plain": [
       "   meter  meter_reading\n",
       "1      1   3.825509e+08\n",
       "0      0   2.028827e+08"
      ]
     },
     "execution_count": 113,
     "metadata": {},
     "output_type": "execute_result"
    }
   ],
   "source": [
    "meter = df.groupby(\"meter\", as_index  = False)[\"meter_reading\"].sum() #Checking for the meter type and how they consume energy\n",
    "meter = meter.sort_values(by = [\"meter_reading\"], ascending = False)\n",
    "meter"
   ]
  },
  {
   "cell_type": "code",
   "execution_count": 114,
   "id": "b48e802b",
   "metadata": {
    "scrolled": true
   },
   "outputs": [
    {
     "data": {
      "text/plain": [
       "<Figure size 720x576 with 0 Axes>"
      ]
     },
     "metadata": {},
     "output_type": "display_data"
    },
    {
     "data": {
      "image/png": "[encoded data removed]",
      "text/plain": [
       "<Figure size 720x576 with 1 Axes>"
      ]
     },
     "metadata": {
      "needs_background": "light"
     },
     "output_type": "display_data"
    }
   ],
   "source": [
    "plt.figure(figsize = (10,8))\n",
    "meter.plot.bar(figsize = (10,8), width = 1)\n",
    "plt.xlabel('Meter', size = 15)\n",
    "plt.title(\"Visuals of meter against the energy rate\",size = 20, family = 'serif')\n",
    "plt.ylabel(\"Meter_reading\", size = 15)\n",
    "#plt.xticks(rotation = 90)\n",
    "plt.show()"
   ]
  },
  {
   "cell_type": "code",
   "execution_count": 115,
   "id": "9d4be330",
   "metadata": {},
   "outputs": [
    {
     "data": {
      "text/html": [
       "<div>\n",
       "<style scoped>\n",
       "    .dataframe tbody tr th:only-of-type {\n",
       "        vertical-align: middle;\n",
       "    }\n",
       "\n",
       "    .dataframe tbody tr th {\n",
       "        vertical-align: top;\n",
       "    }\n",
       "\n",
       "    .dataframe thead tr th {\n",
       "        text-align: left;\n",
       "    }\n",
       "\n",
       "    .dataframe thead tr:last-of-type th {\n",
       "        text-align: right;\n",
       "    }\n",
       "</style>\n",
       "<table border=\"1\" class=\"dataframe\">\n",
       "  <thead>\n",
       "    <tr>\n",
       "      <th></th>\n",
       "      <th colspan=\"2\" halign=\"left\">meter_reading</th>\n",
       "    </tr>\n",
       "    <tr>\n",
       "      <th>meter</th>\n",
       "      <th>0</th>\n",
       "      <th>1</th>\n",
       "    </tr>\n",
       "    <tr>\n",
       "      <th>primary_use</th>\n",
       "      <th></th>\n",
       "      <th></th>\n",
       "    </tr>\n",
       "  </thead>\n",
       "  <tbody>\n",
       "    <tr>\n",
       "      <th>Education</th>\n",
       "      <td>8.960344e+07</td>\n",
       "      <td>2.489231e+08</td>\n",
       "    </tr>\n",
       "    <tr>\n",
       "      <th>Entertainment/public assembly</th>\n",
       "      <td>1.600554e+07</td>\n",
       "      <td>NaN</td>\n",
       "    </tr>\n",
       "    <tr>\n",
       "      <th>Lodging/residential</th>\n",
       "      <td>4.245677e+07</td>\n",
       "      <td>8.180952e+07</td>\n",
       "    </tr>\n",
       "    <tr>\n",
       "      <th>Office</th>\n",
       "      <td>3.146556e+07</td>\n",
       "      <td>3.639205e+07</td>\n",
       "    </tr>\n",
       "    <tr>\n",
       "      <th>Other</th>\n",
       "      <td>7.730486e+06</td>\n",
       "      <td>1.396835e+07</td>\n",
       "    </tr>\n",
       "    <tr>\n",
       "      <th>Parking</th>\n",
       "      <td>4.564820e+06</td>\n",
       "      <td>NaN</td>\n",
       "    </tr>\n",
       "    <tr>\n",
       "      <th>Retail</th>\n",
       "      <td>1.105612e+07</td>\n",
       "      <td>1.457858e+06</td>\n",
       "    </tr>\n",
       "  </tbody>\n",
       "</table>\n",
       "</div>"
      ],
      "text/plain": [
       "                              meter_reading              \n",
       "meter                                     0             1\n",
       "primary_use                                              \n",
       "Education                      8.960344e+07  2.489231e+08\n",
       "Entertainment/public assembly  1.600554e+07           NaN\n",
       "Lodging/residential            4.245677e+07  8.180952e+07\n",
       "Office                         3.146556e+07  3.639205e+07\n",
       "Other                          7.730486e+06  1.396835e+07\n",
       "Parking                        4.564820e+06           NaN\n",
       "Retail                         1.105612e+07  1.457858e+06"
      ]
     },
     "execution_count": 115,
     "metadata": {},
     "output_type": "execute_result"
    }
   ],
   "source": [
    "meterbrkdwn = pd.pivot_table(df, index = [\"primary_use\"], columns = ['meter'], values  = ['meter_reading'], aggfunc = 'sum')\n",
    "meterbrkdwn #Energy Consumption by primary use of building base on meter type"
   ]
  },
  {
   "cell_type": "code",
   "execution_count": 116,
   "id": "4cfb910a",
   "metadata": {},
   "outputs": [
    {
     "data": {
      "image/png": "[encoded data removed]",
      "text/plain": [
       "<Figure size 720x432 with 1 Axes>"
      ]
     },
     "metadata": {
      "needs_background": "light"
     },
     "output_type": "display_data"
    }
   ],
   "source": [
    "meterbrkdwn.plot.bar(figsize = (10,6), width = 2, stacked = True)\n",
    "plt.title(\"Meter reading by building use on each meters\", family = 'serif', size = 20)\n",
    "plt.xlabel(\"Primary_use\", size = 10)\n",
    "plt.ylabel(\"Values\", size = 10)\n",
    "plt.show()"
   ]
  },
  {
   "cell_type": "markdown",
   "id": "b4598f71",
   "metadata": {},
   "source": [
    "### Checking for correlation in the variables in the data"
   ]
  },
  {
   "cell_type": "code",
   "execution_count": 150,
   "id": "1afb79c8",
   "metadata": {},
   "outputs": [
    {
     "data": {
      "text/html": [
       "<div>\n",
       "<style scoped>\n",
       "    .dataframe tbody tr th:only-of-type {\n",
       "        vertical-align: middle;\n",
       "    }\n",
       "\n",
       "    .dataframe tbody tr th {\n",
       "        vertical-align: top;\n",
       "    }\n",
       "\n",
       "    .dataframe thead th {\n",
       "        text-align: right;\n",
       "    }\n",
       "</style>\n",
       "<table border=\"1\" class=\"dataframe\">\n",
       "  <thead>\n",
       "    <tr style=\"text-align: right;\">\n",
       "      <th></th>\n",
       "      <th>building_id</th>\n",
       "      <th>square_feet</th>\n",
       "      <th>year_built</th>\n",
       "      <th>air_temperature</th>\n",
       "      <th>cloud_coverage</th>\n",
       "      <th>dew_temperature</th>\n",
       "      <th>precip_depth_1_hr</th>\n",
       "      <th>sea_level_pressure</th>\n",
       "      <th>wind_direction</th>\n",
       "      <th>wind_speed</th>\n",
       "      <th>meter</th>\n",
       "      <th>meter_reading</th>\n",
       "    </tr>\n",
       "  </thead>\n",
       "  <tbody>\n",
       "    <tr>\n",
       "      <th>building_id</th>\n",
       "      <td>1.000000</td>\n",
       "      <td>0.169070</td>\n",
       "      <td>0.010482</td>\n",
       "      <td>0.002845</td>\n",
       "      <td>0.000445</td>\n",
       "      <td>0.001965</td>\n",
       "      <td>0.000184</td>\n",
       "      <td>-0.000398</td>\n",
       "      <td>-0.000378</td>\n",
       "      <td>-0.001063</td>\n",
       "      <td>0.043674</td>\n",
       "      <td>0.022832</td>\n",
       "    </tr>\n",
       "    <tr>\n",
       "      <th>square_feet</th>\n",
       "      <td>0.169070</td>\n",
       "      <td>1.000000</td>\n",
       "      <td>0.172601</td>\n",
       "      <td>-0.000166</td>\n",
       "      <td>-0.000560</td>\n",
       "      <td>0.000331</td>\n",
       "      <td>-0.000035</td>\n",
       "      <td>0.000404</td>\n",
       "      <td>0.000020</td>\n",
       "      <td>0.000412</td>\n",
       "      <td>0.006368</td>\n",
       "      <td>0.106520</td>\n",
       "    </tr>\n",
       "    <tr>\n",
       "      <th>year_built</th>\n",
       "      <td>0.010482</td>\n",
       "      <td>0.172601</td>\n",
       "      <td>1.000000</td>\n",
       "      <td>0.010999</td>\n",
       "      <td>0.000265</td>\n",
       "      <td>0.012111</td>\n",
       "      <td>0.000110</td>\n",
       "      <td>-0.002110</td>\n",
       "      <td>-0.003272</td>\n",
       "      <td>-0.002177</td>\n",
       "      <td>0.088126</td>\n",
       "      <td>0.130023</td>\n",
       "    </tr>\n",
       "    <tr>\n",
       "      <th>air_temperature</th>\n",
       "      <td>0.002845</td>\n",
       "      <td>-0.000166</td>\n",
       "      <td>0.010999</td>\n",
       "      <td>1.000000</td>\n",
       "      <td>0.295912</td>\n",
       "      <td>0.717020</td>\n",
       "      <td>-0.000688</td>\n",
       "      <td>-0.315214</td>\n",
       "      <td>-0.211292</td>\n",
       "      <td>0.091966</td>\n",
       "      <td>0.088819</td>\n",
       "      <td>0.171254</td>\n",
       "    </tr>\n",
       "    <tr>\n",
       "      <th>cloud_coverage</th>\n",
       "      <td>0.000445</td>\n",
       "      <td>-0.000560</td>\n",
       "      <td>0.000265</td>\n",
       "      <td>0.295912</td>\n",
       "      <td>1.000000</td>\n",
       "      <td>0.296416</td>\n",
       "      <td>0.138508</td>\n",
       "      <td>-0.187190</td>\n",
       "      <td>-0.062456</td>\n",
       "      <td>0.115347</td>\n",
       "      <td>0.004831</td>\n",
       "      <td>0.037039</td>\n",
       "    </tr>\n",
       "    <tr>\n",
       "      <th>dew_temperature</th>\n",
       "      <td>0.001965</td>\n",
       "      <td>0.000331</td>\n",
       "      <td>0.012111</td>\n",
       "      <td>0.717020</td>\n",
       "      <td>0.296416</td>\n",
       "      <td>1.000000</td>\n",
       "      <td>0.066802</td>\n",
       "      <td>-0.366631</td>\n",
       "      <td>-0.265391</td>\n",
       "      <td>-0.168157</td>\n",
       "      <td>0.084714</td>\n",
       "      <td>0.183738</td>\n",
       "    </tr>\n",
       "    <tr>\n",
       "      <th>precip_depth_1_hr</th>\n",
       "      <td>0.000184</td>\n",
       "      <td>-0.000035</td>\n",
       "      <td>0.000110</td>\n",
       "      <td>-0.000688</td>\n",
       "      <td>0.138508</td>\n",
       "      <td>0.066802</td>\n",
       "      <td>1.000000</td>\n",
       "      <td>-0.080515</td>\n",
       "      <td>0.011444</td>\n",
       "      <td>0.045101</td>\n",
       "      <td>0.001323</td>\n",
       "      <td>0.002696</td>\n",
       "    </tr>\n",
       "    <tr>\n",
       "      <th>sea_level_pressure</th>\n",
       "      <td>-0.000398</td>\n",
       "      <td>0.000404</td>\n",
       "      <td>-0.002110</td>\n",
       "      <td>-0.315214</td>\n",
       "      <td>-0.187190</td>\n",
       "      <td>-0.366631</td>\n",
       "      <td>-0.080515</td>\n",
       "      <td>1.000000</td>\n",
       "      <td>-0.112328</td>\n",
       "      <td>-0.145828</td>\n",
       "      <td>-0.016235</td>\n",
       "      <td>-0.045407</td>\n",
       "    </tr>\n",
       "    <tr>\n",
       "      <th>wind_direction</th>\n",
       "      <td>-0.000378</td>\n",
       "      <td>0.000020</td>\n",
       "      <td>-0.003272</td>\n",
       "      <td>-0.211292</td>\n",
       "      <td>-0.062456</td>\n",
       "      <td>-0.265391</td>\n",
       "      <td>0.011444</td>\n",
       "      <td>-0.112328</td>\n",
       "      <td>1.000000</td>\n",
       "      <td>0.225566</td>\n",
       "      <td>-0.023390</td>\n",
       "      <td>-0.043802</td>\n",
       "    </tr>\n",
       "    <tr>\n",
       "      <th>wind_speed</th>\n",
       "      <td>-0.001063</td>\n",
       "      <td>0.000412</td>\n",
       "      <td>-0.002177</td>\n",
       "      <td>0.091966</td>\n",
       "      <td>0.115347</td>\n",
       "      <td>-0.168157</td>\n",
       "      <td>0.045101</td>\n",
       "      <td>-0.145828</td>\n",
       "      <td>0.225566</td>\n",
       "      <td>1.000000</td>\n",
       "      <td>-0.019263</td>\n",
       "      <td>-0.035115</td>\n",
       "    </tr>\n",
       "    <tr>\n",
       "      <th>meter</th>\n",
       "      <td>0.043674</td>\n",
       "      <td>0.006368</td>\n",
       "      <td>0.088126</td>\n",
       "      <td>0.088819</td>\n",
       "      <td>0.004831</td>\n",
       "      <td>0.084714</td>\n",
       "      <td>0.001323</td>\n",
       "      <td>-0.016235</td>\n",
       "      <td>-0.023390</td>\n",
       "      <td>-0.019263</td>\n",
       "      <td>1.000000</td>\n",
       "      <td>0.607287</td>\n",
       "    </tr>\n",
       "    <tr>\n",
       "      <th>meter_reading</th>\n",
       "      <td>0.022832</td>\n",
       "      <td>0.106520</td>\n",
       "      <td>0.130023</td>\n",
       "      <td>0.171254</td>\n",
       "      <td>0.037039</td>\n",
       "      <td>0.183738</td>\n",
       "      <td>0.002696</td>\n",
       "      <td>-0.045407</td>\n",
       "      <td>-0.043802</td>\n",
       "      <td>-0.035115</td>\n",
       "      <td>0.607287</td>\n",
       "      <td>1.000000</td>\n",
       "    </tr>\n",
       "  </tbody>\n",
       "</table>\n",
       "</div>"
      ],
      "text/plain": [
       "                    building_id  square_feet  year_built  air_temperature  \\\n",
       "building_id            1.000000     0.169070    0.010482         0.002845   \n",
       "square_feet            0.169070     1.000000    0.172601        -0.000166   \n",
       "year_built             0.010482     0.172601    1.000000         0.010999   \n",
       "air_temperature        0.002845    -0.000166    0.010999         1.000000   \n",
       "cloud_coverage         0.000445    -0.000560    0.000265         0.295912   \n",
       "dew_temperature        0.001965     0.000331    0.012111         0.717020   \n",
       "precip_depth_1_hr      0.000184    -0.000035    0.000110        -0.000688   \n",
       "sea_level_pressure    -0.000398     0.000404   -0.002110        -0.315214   \n",
       "wind_direction        -0.000378     0.000020   -0.003272        -0.211292   \n",
       "wind_speed            -0.001063     0.000412   -0.002177         0.091966   \n",
       "meter                  0.043674     0.006368    0.088126         0.088819   \n",
       "meter_reading          0.022832     0.106520    0.130023         0.171254   \n",
       "\n",
       "                    cloud_coverage  dew_temperature  precip_depth_1_hr  \\\n",
       "building_id               0.000445         0.001965           0.000184   \n",
       "square_feet              -0.000560         0.000331          -0.000035   \n",
       "year_built                0.000265         0.012111           0.000110   \n",
       "air_temperature           0.295912         0.717020          -0.000688   \n",
       "cloud_coverage            1.000000         0.296416           0.138508   \n",
       "dew_temperature           0.296416         1.000000           0.066802   \n",
       "precip_depth_1_hr         0.138508         0.066802           1.000000   \n",
       "sea_level_pressure       -0.187190        -0.366631          -0.080515   \n",
       "wind_direction           -0.062456        -0.265391           0.011444   \n",
       "wind_speed                0.115347        -0.168157           0.045101   \n",
       "meter                     0.004831         0.084714           0.001323   \n",
       "meter_reading             0.037039         0.183738           0.002696   \n",
       "\n",
       "                    sea_level_pressure  wind_direction  wind_speed     meter  \\\n",
       "building_id                  -0.000398       -0.000378   -0.001063  0.043674   \n",
       "square_feet                   0.000404        0.000020    0.000412  0.006368   \n",
       "year_built                   -0.002110       -0.003272   -0.002177  0.088126   \n",
       "air_temperature              -0.315214       -0.211292    0.091966  0.088819   \n",
       "cloud_coverage               -0.187190       -0.062456    0.115347  0.004831   \n",
       "dew_temperature              -0.366631       -0.265391   -0.168157  0.084714   \n",
       "precip_depth_1_hr            -0.080515        0.011444    0.045101  0.001323   \n",
       "sea_level_pressure            1.000000       -0.112328   -0.145828 -0.016235   \n",
       "wind_direction               -0.112328        1.000000    0.225566 -0.023390   \n",
       "wind_speed                   -0.145828        0.225566    1.000000 -0.019263   \n",
       "meter                        -0.016235       -0.023390   -0.019263  1.000000   \n",
       "meter_reading                -0.045407       -0.043802   -0.035115  0.607287   \n",
       "\n",
       "                    meter_reading  \n",
       "building_id              0.022832  \n",
       "square_feet              0.106520  \n",
       "year_built               0.130023  \n",
       "air_temperature          0.171254  \n",
       "cloud_coverage           0.037039  \n",
       "dew_temperature          0.183738  \n",
       "precip_depth_1_hr        0.002696  \n",
       "sea_level_pressure      -0.045407  \n",
       "wind_direction          -0.043802  \n",
       "wind_speed              -0.035115  \n",
       "meter                    0.607287  \n",
       "meter_reading            1.000000  "
      ]
     },
     "execution_count": 150,
     "metadata": {},
     "output_type": "execute_result"
    }
   ],
   "source": [
    "correlatn = df[['building_id', 'square_feet', 'year_built',  'air_temperature', 'cloud_coverage',\n",
    "                    'dew_temperature', 'precip_depth_1_hr','sea_level_pressure','wind_direction','wind_speed', \n",
    "                    'meter', 'meter_reading']].corr()\n",
    "correlatn"
   ]
  },
  {
   "cell_type": "code",
   "execution_count": 151,
   "id": "3417bf8f",
   "metadata": {},
   "outputs": [
    {
     "data": {
      "image/png": "[encoded data removed]",
      "text/plain": [
       "<Figure size 720x576 with 2 Axes>"
      ]
     },
     "metadata": {
      "needs_background": "light"
     },
     "output_type": "display_data"
    }
   ],
   "source": [
    "plt.figure (figsize = (10,8)) #Visuals of how variables correlate\n",
    "sns.heatmap(correlatn, cbar = True , square = True, fmt = '.1f', annot = True, annot_kws = { 'size' : 10}) ##, ##cmap = 'reds')\n",
    "plt.show()"
   ]
  },
  {
   "cell_type": "code",
   "execution_count": 152,
   "id": "e2642628",
   "metadata": {},
   "outputs": [
    {
     "name": "stdout",
     "output_type": "stream",
     "text": [
      "<class 'pandas.core.frame.DataFrame'>\n",
      "RangeIndex: 1048575 entries, 0 to 1048574\n",
      "Data columns (total 14 columns):\n",
      " #   Column              Non-Null Count    Dtype  \n",
      "---  ------              --------------    -----  \n",
      " 0   building_id         1048575 non-null  int64  \n",
      " 1   primary_use         1048575 non-null  object \n",
      " 2   square_feet         1048575 non-null  int64  \n",
      " 3   year_built          1048575 non-null  int64  \n",
      " 4   timestamp           1048575 non-null  object \n",
      " 5   air_temperature     1048272 non-null  float64\n",
      " 6   cloud_coverage      593261 non-null   float64\n",
      " 7   dew_temperature     1048272 non-null  float64\n",
      " 8   precip_depth_1_hr   1048474 non-null  float64\n",
      " 9   sea_level_pressure  1038535 non-null  float64\n",
      " 10  wind_direction      1018126 non-null  float64\n",
      " 11  wind_speed          1048575 non-null  float64\n",
      " 12  meter               1048575 non-null  int64  \n",
      " 13  meter_reading       1048575 non-null  float64\n",
      "dtypes: float64(8), int64(4), object(2)\n",
      "memory usage: 112.0+ MB\n"
     ]
    }
   ],
   "source": [
    "df.info()"
   ]
  },
  {
   "cell_type": "code",
   "execution_count": 154,
   "id": "421260a8",
   "metadata": {},
   "outputs": [
    {
     "data": {
      "text/plain": [
       "<seaborn.axisgrid.JointGrid at 0x2552c402910>"
      ]
     },
     "execution_count": 154,
     "metadata": {},
     "output_type": "execute_result"
    },
    {
     "data": {
      "text/plain": [
       "<Figure size 792x504 with 0 Axes>"
      ]
     },
     "metadata": {},
     "output_type": "display_data"
    },
    {
     "data": {
      "image/png": "[encoded data removed]",
      "text/plain": [
       "<Figure size 432x432 with 3 Axes>"
      ]
     },
     "metadata": {
      "needs_background": "light"
     },
     "output_type": "display_data"
    }
   ],
   "source": [
    "plt.figure(figsize=(11,7))\n",
    "sns.jointplot(x='timestamp',y='meter_reading',data=df)"
   ]
  },
  {
   "cell_type": "markdown",
   "id": "f6f9be6e",
   "metadata": {},
   "source": [
    "### Data Preprocessing "
   ]
  },
  {
   "cell_type": "code",
   "execution_count": 156,
   "id": "de12ba5e",
   "metadata": {
    "scrolled": false
   },
   "outputs": [
    {
     "data": {
      "text/plain": [
       "building_id                0\n",
       "primary_use                0\n",
       "square_feet                0\n",
       "year_built                 0\n",
       "timestamp                  0\n",
       "air_temperature          303\n",
       "cloud_coverage        455314\n",
       "dew_temperature          303\n",
       "precip_depth_1_hr        101\n",
       "sea_level_pressure     10040\n",
       "wind_direction         30449\n",
       "wind_speed                 0\n",
       "meter                      0\n",
       "meter_reading              0\n",
       "dtype: int64"
      ]
     },
     "execution_count": 156,
     "metadata": {},
     "output_type": "execute_result"
    }
   ],
   "source": [
    "df.isna().sum()"
   ]
  },
  {
   "cell_type": "code",
   "execution_count": 242,
   "id": "077cda86",
   "metadata": {},
   "outputs": [],
   "source": [
    "df[['wind_direction', 'sea_level_pressure', 'precip_depth_1_hr', 'dew_temperature', 'cloud_coverage', 'air_temperature']] = df[['wind_direction', 'sea_level_pressure', 'precip_depth_1_hr', 'dew_temperature', 'cloud_coverage', 'air_temperature']].interpolate()"
   ]
  },
  {
   "cell_type": "code",
   "execution_count": 243,
   "id": "7c47ea8d",
   "metadata": {
    "scrolled": true
   },
   "outputs": [
    {
     "data": {
      "text/plain": [
       "building_id           0\n",
       "primary_use           0\n",
       "square_feet           0\n",
       "year_built            0\n",
       "timestamp             0\n",
       "air_temperature       0\n",
       "cloud_coverage        0\n",
       "dew_temperature       0\n",
       "precip_depth_1_hr     0\n",
       "sea_level_pressure    0\n",
       "wind_direction        0\n",
       "wind_speed            0\n",
       "meter                 0\n",
       "meter_reading         0\n",
       "dtype: int64"
      ]
     },
     "execution_count": 243,
     "metadata": {},
     "output_type": "execute_result"
    }
   ],
   "source": [
    "df.isnull().sum()"
   ]
  },
  {
   "cell_type": "code",
   "execution_count": 244,
   "id": "17f81392",
   "metadata": {},
   "outputs": [],
   "source": [
    "df = df.dropna()"
   ]
  },
  {
   "cell_type": "code",
   "execution_count": 245,
   "id": "153002be",
   "metadata": {},
   "outputs": [],
   "source": [
    "df['year_built'] = df['year_built'].astype(int) #converting to int so it can be readable for ML\n",
    "df['timestamp'] = pd.to_datetime(df['timestamp']).astype(np.int64)"
   ]
  },
  {
   "cell_type": "code",
   "execution_count": 246,
   "id": "3942a6ed",
   "metadata": {},
   "outputs": [],
   "source": [
    "df.replace({'primary_use' : {'Education' : 1, 'Lodging/residential' : 2, \n",
    "                                'Office' : 3, 'Entertainment/public assembly' : 4, 'Retail' : 5,  \n",
    "                                'Parking' : 6, 'Other' : 7,}}, inplace = True) #Encoding primary use variable"
   ]
  },
  {
   "cell_type": "code",
   "execution_count": 247,
   "id": "847c1fd4",
   "metadata": {
    "scrolled": true
   },
   "outputs": [
    {
     "data": {
      "text/plain": [
       "array([1, 2, 3, 4, 7, 5, 6], dtype=int64)"
      ]
     },
     "execution_count": 247,
     "metadata": {},
     "output_type": "execute_result"
    }
   ],
   "source": [
    "df.primary_use.unique()"
   ]
  },
  {
   "cell_type": "markdown",
   "id": "8e838421",
   "metadata": {},
   "source": [
    "### Building The Model"
   ]
  },
  {
   "cell_type": "code",
   "execution_count": 248,
   "id": "498b8b74",
   "metadata": {},
   "outputs": [],
   "source": [
    "X = df.drop(columns = ['meter_reading'], axis = 1) #all columns except meter reading\n",
    "y = df['meter_reading'] # meter reding column - the dependent variable "
   ]
  },
  {
   "cell_type": "code",
   "execution_count": 249,
   "id": "e2cf7c1c",
   "metadata": {},
   "outputs": [],
   "source": [
    "X_train, X_test, y_train, y_test = train_test_split(X, y, test_size = 0.30, random_state = 101) "
   ]
  },
  {
   "cell_type": "code",
   "execution_count": 250,
   "id": "837de230",
   "metadata": {},
   "outputs": [
    {
     "name": "stdout",
     "output_type": "stream",
     "text": [
      "(734001, 13)\n",
      "(734001,)\n"
     ]
    }
   ],
   "source": [
    "print(X_train.shape)\n",
    "print(y_train.shape)"
   ]
  },
  {
   "cell_type": "code",
   "execution_count": 251,
   "id": "e2cd454c",
   "metadata": {},
   "outputs": [],
   "source": [
    "model = RandomForestRegressor(n_estimators = 3) #calling a random regressor model"
   ]
  },
  {
   "cell_type": "code",
   "execution_count": 252,
   "id": "0bac25b2",
   "metadata": {
    "scrolled": true
   },
   "outputs": [],
   "source": [
    "model = model.fit(X_train, y_train) #Fitting the variables into the model"
   ]
  },
  {
   "cell_type": "markdown",
   "id": "b5527f33",
   "metadata": {},
   "source": [
    "####  Evaluating Model Accuracy"
   ]
  },
  {
   "cell_type": "code",
   "execution_count": 253,
   "id": "ffeaffe9",
   "metadata": {},
   "outputs": [],
   "source": [
    "predictions = model.predict(X_test) #Evaluating the model accuracy"
   ]
  },
  {
   "cell_type": "code",
   "execution_count": 254,
   "id": "8fcf0e14",
   "metadata": {},
   "outputs": [],
   "source": [
    "error_score = metrics.r2_score(predictions,  y_test)"
   ]
  },
  {
   "cell_type": "code",
   "execution_count": 256,
   "id": "5eb24bef",
   "metadata": {
    "scrolled": true
   },
   "outputs": [
    {
     "data": {
      "text/plain": [
       "0.8568052963014118"
      ]
     },
     "execution_count": 256,
     "metadata": {},
     "output_type": "execute_result"
    }
   ],
   "source": [
    "error_score"
   ]
  },
  {
   "cell_type": "markdown",
   "id": "a25024f8",
   "metadata": {},
   "source": [
    "### Predicting the Model"
   ]
  },
  {
   "cell_type": "code",
   "execution_count": 257,
   "id": "3d8403e0",
   "metadata": {},
   "outputs": [],
   "source": [
    "train_predict = model.predict(X_train)"
   ]
  },
  {
   "cell_type": "code",
   "execution_count": 258,
   "id": "e3f8aa96",
   "metadata": {},
   "outputs": [],
   "source": [
    "error_score_train = metrics.r2_score(train_predict,  y_train)"
   ]
  },
  {
   "cell_type": "code",
   "execution_count": 259,
   "id": "f458d938",
   "metadata": {
    "scrolled": false
   },
   "outputs": [
    {
     "data": {
      "text/plain": [
       "0.8568052963014118"
      ]
     },
     "execution_count": 259,
     "metadata": {},
     "output_type": "execute_result"
    }
   ],
   "source": [
    "error_score"
   ]
  },
  {
   "cell_type": "markdown",
   "id": "ebf81235",
   "metadata": {},
   "source": [
    "---"
   ]
  },
  {
   "cell_type": "markdown",
   "id": "2828d26e",
   "metadata": {},
   "source": [
    "Conclusion"
   ]
  },
  {
   "cell_type": "markdown",
   "id": "1be543f9",
   "metadata": {},
   "source": [
    "Considering the rapid changes in technology in the energy sector over the years that has disrupted the traditional ways of using energy with the override principle of renewable energy and sustainability, a model with 85% accuracy is score is usable to preidict furture energy consumtption "
   ]
  }
 ],
 "metadata": {
  "kernelspec": {
   "display_name": "Python 3 (ipykernel)",
   "language": "python",
   "name": "python3"
  },
  "language_info": {
   "codemirror_mode": {
    "name": "ipython",
    "version": 3
   },
   "file_extension": ".py",
   "mimetype": "text/x-python",
   "name": "python",
   "nbconvert_exporter": "python",
   "pygments_lexer": "ipython3",
   "version": "3.9.7"
  }
 },
 "nbformat": 4,
 "nbformat_minor": 5
}
